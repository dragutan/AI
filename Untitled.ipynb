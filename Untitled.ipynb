{
 "cells": [
  {
   "cell_type": "code",
   "execution_count": 1,
   "id": "c31da33a",
   "metadata": {},
   "outputs": [
    {
     "name": "stdout",
     "output_type": "stream",
     "text": [
      "1\n"
     ]
    }
   ],
   "source": [
    "var =1\n",
    "print(var)\n"
   ]
  },
  {
   "cell_type": "code",
   "execution_count": 2,
   "id": "78be4c9b",
   "metadata": {},
   "outputs": [
    {
     "data": {
      "text/plain": [
       "float"
      ]
     },
     "execution_count": 2,
     "metadata": {},
     "output_type": "execute_result"
    }
   ],
   "source": [
    "var = 2.73\n",
    "type (var)"
   ]
  },
  {
   "cell_type": "code",
   "execution_count": 4,
   "id": "2345249b",
   "metadata": {},
   "outputs": [],
   "source": [
    "var = True\n"
   ]
  },
  {
   "cell_type": "code",
   "execution_count": 5,
   "id": "aa236658",
   "metadata": {},
   "outputs": [],
   "source": [
    "var = False\n"
   ]
  },
  {
   "cell_type": "code",
   "execution_count": 6,
   "id": "0fa0b4da",
   "metadata": {},
   "outputs": [
    {
     "name": "stdout",
     "output_type": "stream",
     "text": [
      "False\n"
     ]
    }
   ],
   "source": [
    "print(var)\n",
    "\n"
   ]
  },
  {
   "cell_type": "code",
   "execution_count": 9,
   "id": "f8c1d4be",
   "metadata": {},
   "outputs": [],
   "source": [
    "a = 2\n",
    "b = 5\n"
   ]
  },
  {
   "cell_type": "code",
   "execution_count": null,
   "id": "00952e78",
   "metadata": {},
   "outputs": [],
   "source": [
    "print(s)\n"
   ]
  },
  {
   "cell_type": "code",
   "execution_count": null,
   "id": "cb5797eb",
   "metadata": {},
   "outputs": [],
   "source": [
    "s = a + b\n",
    "d = b - a\n",
    "p = a * b\n",
    "c = a / 2\n"
   ]
  }
 ],
 "metadata": {
  "kernelspec": {
   "display_name": "Python 3",
   "language": "python",
   "name": "python3"
  },
  "language_info": {
   "codemirror_mode": {
    "name": "ipython",
    "version": 3
   },
   "file_extension": ".py",
   "mimetype": "text/x-python",
   "name": "python",
   "nbconvert_exporter": "python",
   "pygments_lexer": "ipython3",
   "version": "3.7.9"
  }
 },
 "nbformat": 4,
 "nbformat_minor": 5
}

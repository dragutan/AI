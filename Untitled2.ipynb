{
 "cells": [
  {
   "cell_type": "code",
   "execution_count": 1,
   "id": "8d67e93e",
   "metadata": {},
   "outputs": [],
   "source": [
    "primul_nr = 2\n",
    "aldoilea_nr = 5"
   ]
  },
  {
   "cell_type": "code",
   "execution_count": 2,
   "id": "ba8a4425",
   "metadata": {},
   "outputs": [],
   "source": [
    "suma = primul_nr + aldoilea_nr"
   ]
  },
  {
   "cell_type": "code",
   "execution_count": 4,
   "id": "bfe82395",
   "metadata": {},
   "outputs": [
    {
     "data": {
      "text/plain": [
       "7"
      ]
     },
     "execution_count": 4,
     "metadata": {},
     "output_type": "execute_result"
    }
   ],
   "source": [
    "suma"
   ]
  },
  {
   "cell_type": "code",
   "execution_count": 5,
   "id": "bd6d8b79",
   "metadata": {},
   "outputs": [],
   "source": [
    "diferenta = primul_nr - aldoilea_nr"
   ]
  },
  {
   "cell_type": "code",
   "execution_count": 6,
   "id": "e25f273c",
   "metadata": {},
   "outputs": [
    {
     "data": {
      "text/plain": [
       "-3"
      ]
     },
     "execution_count": 6,
     "metadata": {},
     "output_type": "execute_result"
    }
   ],
   "source": [
    "diferenta"
   ]
  },
  {
   "cell_type": "code",
   "execution_count": 7,
   "id": "10018ed8",
   "metadata": {},
   "outputs": [],
   "source": [
    "produsul = primul_nr * aldoilea_nr"
   ]
  },
  {
   "cell_type": "code",
   "execution_count": 8,
   "id": "f2af4c0f",
   "metadata": {},
   "outputs": [
    {
     "data": {
      "text/plain": [
       "10"
      ]
     },
     "execution_count": 8,
     "metadata": {},
     "output_type": "execute_result"
    }
   ],
   "source": [
    "produsul"
   ]
  },
  {
   "cell_type": "code",
   "execution_count": 9,
   "id": "1eedbe9e",
   "metadata": {},
   "outputs": [],
   "source": [
    "catul = primul_nr / aldoilea_nr"
   ]
  },
  {
   "cell_type": "code",
   "execution_count": 10,
   "id": "aec9f665",
   "metadata": {},
   "outputs": [
    {
     "data": {
      "text/plain": [
       "0.4"
      ]
     },
     "execution_count": 10,
     "metadata": {},
     "output_type": "execute_result"
    }
   ],
   "source": [
    "catul"
   ]
  },
  {
   "cell_type": "code",
   "execution_count": 13,
   "id": "6596f8a3",
   "metadata": {},
   "outputs": [],
   "source": [
    "int_division = aldoilea_nr // primul_nr"
   ]
  },
  {
   "cell_type": "code",
   "execution_count": 14,
   "id": "8d626d57",
   "metadata": {},
   "outputs": [
    {
     "data": {
      "text/plain": [
       "2"
      ]
     },
     "execution_count": 14,
     "metadata": {},
     "output_type": "execute_result"
    }
   ],
   "source": [
    "int_division"
   ]
  },
  {
   "cell_type": "code",
   "execution_count": 17,
   "id": "95dc42d9",
   "metadata": {},
   "outputs": [],
   "source": [
    "the_mod = primul_nr % aldoilea_nr"
   ]
  },
  {
   "cell_type": "code",
   "execution_count": 18,
   "id": "dd297c64",
   "metadata": {},
   "outputs": [
    {
     "data": {
      "text/plain": [
       "2"
      ]
     },
     "execution_count": 18,
     "metadata": {},
     "output_type": "execute_result"
    }
   ],
   "source": [
    "the_mod"
   ]
  },
  {
   "cell_type": "code",
   "execution_count": 19,
   "id": "a8e0d622",
   "metadata": {},
   "outputs": [
    {
     "data": {
      "text/plain": [
       "3"
      ]
     },
     "execution_count": 19,
     "metadata": {},
     "output_type": "execute_result"
    }
   ],
   "source": [
    "3 % 6"
   ]
  },
  {
   "cell_type": "code",
   "execution_count": 20,
   "id": "96b08a6e",
   "metadata": {},
   "outputs": [
    {
     "data": {
      "text/plain": [
       "1"
      ]
     },
     "execution_count": 20,
     "metadata": {},
     "output_type": "execute_result"
    }
   ],
   "source": [
    "5 % 2"
   ]
  },
  {
   "cell_type": "code",
   "execution_count": 21,
   "id": "03ca4ea3",
   "metadata": {},
   "outputs": [
    {
     "data": {
      "text/plain": [
       "8"
      ]
     },
     "execution_count": 21,
     "metadata": {},
     "output_type": "execute_result"
    }
   ],
   "source": [
    "2 ** 3"
   ]
  },
  {
   "cell_type": "code",
   "execution_count": 22,
   "id": "eca5032e",
   "metadata": {},
   "outputs": [
    {
     "data": {
      "text/plain": [
       "8.0"
      ]
     },
     "execution_count": 22,
     "metadata": {},
     "output_type": "execute_result"
    }
   ],
   "source": [
    "import math\n",
    "math.pow(2,3)"
   ]
  },
  {
   "cell_type": "code",
   "execution_count": 23,
   "id": "5f4f0ab8",
   "metadata": {},
   "outputs": [
    {
     "data": {
      "text/plain": [
       "6.0"
      ]
     },
     "execution_count": 23,
     "metadata": {},
     "output_type": "execute_result"
    }
   ],
   "source": [
    "math.sqrt(36)"
   ]
  },
  {
   "cell_type": "code",
   "execution_count": 24,
   "id": "2fec0356",
   "metadata": {},
   "outputs": [
    {
     "data": {
      "text/plain": [
       "8"
      ]
     },
     "execution_count": 24,
     "metadata": {},
     "output_type": "execute_result"
    }
   ],
   "source": [
    "math.ceil(7.985)"
   ]
  },
  {
   "cell_type": "code",
   "execution_count": 25,
   "id": "d47dfb15",
   "metadata": {},
   "outputs": [
    {
     "data": {
      "text/plain": [
       "4"
      ]
     },
     "execution_count": 25,
     "metadata": {},
     "output_type": "execute_result"
    }
   ],
   "source": [
    "math.ceil(3.5)"
   ]
  },
  {
   "cell_type": "code",
   "execution_count": 26,
   "id": "3c2f4552",
   "metadata": {},
   "outputs": [
    {
     "data": {
      "text/plain": [
       "6"
      ]
     },
     "execution_count": 26,
     "metadata": {},
     "output_type": "execute_result"
    }
   ],
   "source": [
    "math.floor(6.947)"
   ]
  },
  {
   "cell_type": "code",
   "execution_count": 27,
   "id": "c3e68fd5",
   "metadata": {},
   "outputs": [
    {
     "data": {
      "text/plain": [
       "20.085536923187668"
      ]
     },
     "execution_count": 27,
     "metadata": {},
     "output_type": "execute_result"
    }
   ],
   "source": [
    "math.exp(3)"
   ]
  },
  {
   "cell_type": "code",
   "execution_count": 28,
   "id": "931fdcb3",
   "metadata": {},
   "outputs": [
    {
     "data": {
      "text/plain": [
       "2.718281828459045"
      ]
     },
     "execution_count": 28,
     "metadata": {},
     "output_type": "execute_result"
    }
   ],
   "source": [
    "math.exp(1)"
   ]
  },
  {
   "cell_type": "code",
   "execution_count": 29,
   "id": "78225f35",
   "metadata": {},
   "outputs": [
    {
     "data": {
      "text/plain": [
       "2.302585092994046"
      ]
     },
     "execution_count": 29,
     "metadata": {},
     "output_type": "execute_result"
    }
   ],
   "source": [
    "math.log(10)"
   ]
  },
  {
   "cell_type": "code",
   "execution_count": 30,
   "id": "dd5946d8",
   "metadata": {},
   "outputs": [
    {
     "data": {
      "text/plain": [
       "4.605170185988092"
      ]
     },
     "execution_count": 30,
     "metadata": {},
     "output_type": "execute_result"
    }
   ],
   "source": [
    "math.log(100)"
   ]
  },
  {
   "cell_type": "code",
   "execution_count": 31,
   "id": "1b8cf3a2",
   "metadata": {},
   "outputs": [
    {
     "data": {
      "text/plain": [
       "1.0"
      ]
     },
     "execution_count": 31,
     "metadata": {},
     "output_type": "execute_result"
    }
   ],
   "source": [
    "math.log(2.718281828459045)"
   ]
  },
  {
   "cell_type": "code",
   "execution_count": 33,
   "id": "d60d9643",
   "metadata": {},
   "outputs": [
    {
     "data": {
      "text/plain": [
       "0.0007963267107332633"
      ]
     },
     "execution_count": 33,
     "metadata": {},
     "output_type": "execute_result"
    }
   ],
   "source": [
    "math.cos(3.14/2)"
   ]
  },
  {
   "cell_type": "code",
   "execution_count": 36,
   "id": "515a97e9",
   "metadata": {},
   "outputs": [
    {
     "data": {
      "text/plain": [
       "0.5004596890082058"
      ]
     },
     "execution_count": 36,
     "metadata": {},
     "output_type": "execute_result"
    }
   ],
   "source": [
    "math.cos(3.14/3)"
   ]
  },
  {
   "cell_type": "code",
   "execution_count": 37,
   "id": "bf0fd352",
   "metadata": {},
   "outputs": [
    {
     "data": {
      "text/plain": [
       "0.9999996829318346"
      ]
     },
     "execution_count": 37,
     "metadata": {},
     "output_type": "execute_result"
    }
   ],
   "source": [
    "math.sin(3.14/2)"
   ]
  },
  {
   "cell_type": "code",
   "execution_count": 38,
   "id": "610e55fe",
   "metadata": {},
   "outputs": [
    {
     "data": {
      "text/plain": [
       "False"
      ]
     },
     "execution_count": 38,
     "metadata": {},
     "output_type": "execute_result"
    }
   ],
   "source": [
    "3 == 5"
   ]
  },
  {
   "cell_type": "code",
   "execution_count": 39,
   "id": "6087410f",
   "metadata": {},
   "outputs": [
    {
     "data": {
      "text/plain": [
       "True"
      ]
     },
     "execution_count": 39,
     "metadata": {},
     "output_type": "execute_result"
    }
   ],
   "source": [
    "3 != 5"
   ]
  },
  {
   "cell_type": "code",
   "execution_count": 40,
   "id": "a9d5b728",
   "metadata": {},
   "outputs": [
    {
     "data": {
      "text/plain": [
       "False"
      ]
     },
     "execution_count": 40,
     "metadata": {},
     "output_type": "execute_result"
    }
   ],
   "source": [
    "3 > 5"
   ]
  },
  {
   "cell_type": "code",
   "execution_count": 41,
   "id": "4140e2c1",
   "metadata": {},
   "outputs": [
    {
     "data": {
      "text/plain": [
       "True"
      ]
     },
     "execution_count": 41,
     "metadata": {},
     "output_type": "execute_result"
    }
   ],
   "source": [
    "3 < 5"
   ]
  },
  {
   "cell_type": "code",
   "execution_count": 42,
   "id": "ca97d35a",
   "metadata": {},
   "outputs": [
    {
     "data": {
      "text/plain": [
       "True"
      ]
     },
     "execution_count": 42,
     "metadata": {},
     "output_type": "execute_result"
    }
   ],
   "source": [
    "4.56 >= 4.5"
   ]
  },
  {
   "cell_type": "code",
   "execution_count": 43,
   "id": "c21c2514",
   "metadata": {},
   "outputs": [
    {
     "data": {
      "text/plain": [
       "True"
      ]
     },
     "execution_count": 43,
     "metadata": {},
     "output_type": "execute_result"
    }
   ],
   "source": [
    "3.14 <= 4"
   ]
  },
  {
   "cell_type": "code",
   "execution_count": 55,
   "id": "21e5b9e7",
   "metadata": {},
   "outputs": [],
   "source": [
    "a = 2\n",
    "b = 3\n",
    "c = 1"
   ]
  },
  {
   "cell_type": "code",
   "execution_count": 58,
   "id": "4db5f7d3",
   "metadata": {},
   "outputs": [],
   "source": [
    "def f_ec_patrat(x):\n",
    "  return lambda x : a * x**2 + b*x + c \n"
   ]
  },
  {
   "cell_type": "code",
   "execution_count": 59,
   "id": "8bed2828",
   "metadata": {},
   "outputs": [
    {
     "ename": "NameError",
     "evalue": "name 'x' is not defined",
     "output_type": "error",
     "traceback": [
      "\u001b[1;31m---------------------------------------------------------------------------\u001b[0m",
      "\u001b[1;31mNameError\u001b[0m                                 Traceback (most recent call last)",
      "\u001b[1;32m<ipython-input-59-6fcf9dfbd479>\u001b[0m in \u001b[0;36m<module>\u001b[1;34m\u001b[0m\n\u001b[1;32m----> 1\u001b[1;33m \u001b[0mx\u001b[0m\u001b[1;33m\u001b[0m\u001b[1;33m\u001b[0m\u001b[0m\n\u001b[0m",
      "\u001b[1;31mNameError\u001b[0m: name 'x' is not defined"
     ]
    }
   ],
   "source": [
    "x"
   ]
  },
  {
   "cell_type": "code",
   "execution_count": 60,
   "id": "574c30ec",
   "metadata": {},
   "outputs": [],
   "source": [
    "determinantul = b**2 - 4*a*c"
   ]
  },
  {
   "cell_type": "code",
   "execution_count": 61,
   "id": "d67306f3",
   "metadata": {},
   "outputs": [
    {
     "data": {
      "text/plain": [
       "1"
      ]
     },
     "execution_count": 61,
     "metadata": {},
     "output_type": "execute_result"
    }
   ],
   "source": [
    "determinantul"
   ]
  },
  {
   "cell_type": "code",
   "execution_count": 70,
   "id": "cef37b50",
   "metadata": {},
   "outputs": [],
   "source": [
    "sol_1_ec_patr = (-b + math.sqrt(determinantul))/2*a"
   ]
  },
  {
   "cell_type": "code",
   "execution_count": 71,
   "id": "5ea79c06",
   "metadata": {},
   "outputs": [
    {
     "data": {
      "text/plain": [
       "-2.0"
      ]
     },
     "execution_count": 71,
     "metadata": {},
     "output_type": "execute_result"
    }
   ],
   "source": [
    "sol_1_ec_patr"
   ]
  },
  {
   "cell_type": "code",
   "execution_count": 72,
   "id": "ff9cd6c5",
   "metadata": {},
   "outputs": [],
   "source": [
    "sol_2_ec_patr = (-b - math.sqrt(determinantul))/2*a"
   ]
  },
  {
   "cell_type": "code",
   "execution_count": 73,
   "id": "58f7366f",
   "metadata": {},
   "outputs": [
    {
     "data": {
      "text/plain": [
       "-4.0"
      ]
     },
     "execution_count": 73,
     "metadata": {},
     "output_type": "execute_result"
    }
   ],
   "source": [
    "sol_2_ec_patr"
   ]
  },
  {
   "cell_type": "code",
   "execution_count": 68,
   "id": "21025105",
   "metadata": {},
   "outputs": [
    {
     "name": "stdout",
     "output_type": "stream",
     "text": [
      "13\n"
     ]
    }
   ],
   "source": [
    "x = lambda a, b, c : a + b + c\n",
    "print(x(5, 6, 2))"
   ]
  },
  {
   "cell_type": "code",
   "execution_count": 74,
   "id": "a0f6534e",
   "metadata": {},
   "outputs": [
    {
     "ename": "SyntaxError",
     "evalue": "can't assign to operator (<ipython-input-74-97522a7f3b47>, line 1)",
     "output_type": "error",
     "traceback": [
      "\u001b[1;36m  File \u001b[1;32m\"<ipython-input-74-97522a7f3b47>\"\u001b[1;36m, line \u001b[1;32m1\u001b[0m\n\u001b[1;33m    a*math.pow(sol_1_ec_patr,2) + b*sol_1_ec_patr + c = 0\u001b[0m\n\u001b[1;37m                                                         ^\u001b[0m\n\u001b[1;31mSyntaxError\u001b[0m\u001b[1;31m:\u001b[0m can't assign to operator\n"
     ]
    }
   ],
   "source": [
    "a*math.pow(sol_1_ec_patr,2) + b*sol_1_ec_patr + c = 0"
   ]
  },
  {
   "cell_type": "code",
   "execution_count": 77,
   "id": "8364b864",
   "metadata": {},
   "outputs": [],
   "source": [
    "punctul_coordonata_1 = [2.4, -1.6]\n",
    "punctul_coordonata_2 = [5.2, 3.7]"
   ]
  },
  {
   "cell_type": "code",
   "execution_count": 82,
   "id": "c4c9dcab",
   "metadata": {},
   "outputs": [],
   "source": [
    "distanta = math.sqrt(math.pow(punctul_coordonata_2[0] - punctul_coordonata_1[0],2) + math.pow(punctul_coordonata_2[1] - punctul_coordonata_1[1],2))  "
   ]
  },
  {
   "cell_type": "code",
   "execution_count": 79,
   "id": "0530b842",
   "metadata": {},
   "outputs": [
    {
     "data": {
      "text/plain": [
       "[5.2, 3.7]"
      ]
     },
     "execution_count": 79,
     "metadata": {},
     "output_type": "execute_result"
    }
   ],
   "source": [
    "punctul_coordonata_2"
   ]
  },
  {
   "cell_type": "code",
   "execution_count": 80,
   "id": "a9f94e7a",
   "metadata": {},
   "outputs": [
    {
     "data": {
      "text/plain": [
       "3.7"
      ]
     },
     "execution_count": 80,
     "metadata": {},
     "output_type": "execute_result"
    }
   ],
   "source": [
    "punctul_coordonata_2[1]"
   ]
  },
  {
   "cell_type": "code",
   "execution_count": 81,
   "id": "4f594a88",
   "metadata": {},
   "outputs": [
    {
     "ename": "IndexError",
     "evalue": "list index out of range",
     "output_type": "error",
     "traceback": [
      "\u001b[1;31m---------------------------------------------------------------------------\u001b[0m",
      "\u001b[1;31mIndexError\u001b[0m                                Traceback (most recent call last)",
      "\u001b[1;32m<ipython-input-81-4e1f4b5c5a60>\u001b[0m in \u001b[0;36m<module>\u001b[1;34m\u001b[0m\n\u001b[1;32m----> 1\u001b[1;33m \u001b[0mpunctul_coordonata_2\u001b[0m\u001b[1;33m[\u001b[0m\u001b[1;36m2\u001b[0m\u001b[1;33m]\u001b[0m\u001b[1;33m\u001b[0m\u001b[1;33m\u001b[0m\u001b[0m\n\u001b[0m",
      "\u001b[1;31mIndexError\u001b[0m: list index out of range"
     ]
    }
   ],
   "source": [
    "punctul_coordonata_2[2]"
   ]
  },
  {
   "cell_type": "code",
   "execution_count": 83,
   "id": "35e030fc",
   "metadata": {},
   "outputs": [
    {
     "data": {
      "text/plain": [
       "5.994163828258284"
      ]
     },
     "execution_count": 83,
     "metadata": {},
     "output_type": "execute_result"
    }
   ],
   "source": [
    "distanta"
   ]
  },
  {
   "cell_type": "code",
   "execution_count": null,
   "id": "96820034",
   "metadata": {},
   "outputs": [],
   "source": []
  }
 ],
 "metadata": {
  "kernelspec": {
   "display_name": "Python 3",
   "language": "python",
   "name": "python3"
  },
  "language_info": {
   "codemirror_mode": {
    "name": "ipython",
    "version": 3
   },
   "file_extension": ".py",
   "mimetype": "text/x-python",
   "name": "python",
   "nbconvert_exporter": "python",
   "pygments_lexer": "ipython3",
   "version": "3.7.9"
  }
 },
 "nbformat": 4,
 "nbformat_minor": 5
}

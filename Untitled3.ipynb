{
 "cells": [
  {
   "cell_type": "code",
   "execution_count": 1,
   "id": "30ed37ab",
   "metadata": {},
   "outputs": [],
   "source": [
    "lista_nr = [1, 2, 3, 4, 5, 6, 7, 8, 9, 10]"
   ]
  },
  {
   "cell_type": "code",
   "execution_count": 2,
   "id": "198101bc",
   "metadata": {},
   "outputs": [
    {
     "name": "stdout",
     "output_type": "stream",
     "text": [
      "4\n"
     ]
    }
   ],
   "source": [
    "print(lista_nr[3])"
   ]
  },
  {
   "cell_type": "code",
   "execution_count": 3,
   "id": "aefbc886",
   "metadata": {},
   "outputs": [
    {
     "name": "stdout",
     "output_type": "stream",
     "text": [
      "10\n"
     ]
    }
   ],
   "source": [
    "print(lista_nr[9])"
   ]
  },
  {
   "cell_type": "code",
   "execution_count": 4,
   "id": "09bbc72c",
   "metadata": {},
   "outputs": [
    {
     "name": "stdout",
     "output_type": "stream",
     "text": [
      "1\n"
     ]
    }
   ],
   "source": [
    "print(lista_nr[0])"
   ]
  },
  {
   "cell_type": "code",
   "execution_count": 5,
   "id": "aaaa763d",
   "metadata": {},
   "outputs": [
    {
     "name": "stdout",
     "output_type": "stream",
     "text": [
      "10\n"
     ]
    }
   ],
   "source": [
    "print(lista_nr[-1])"
   ]
  },
  {
   "cell_type": "code",
   "execution_count": 6,
   "id": "12a06737",
   "metadata": {},
   "outputs": [
    {
     "name": "stdout",
     "output_type": "stream",
     "text": [
      "8\n"
     ]
    }
   ],
   "source": [
    "print(lista_nr[-3])"
   ]
  },
  {
   "cell_type": "code",
   "execution_count": 7,
   "id": "946c9288",
   "metadata": {},
   "outputs": [],
   "source": [
    "# lista_nr[-m], unde m este nr. de pasi inapoi de la coada litei"
   ]
  },
  {
   "cell_type": "code",
   "execution_count": 8,
   "id": "26de509e",
   "metadata": {},
   "outputs": [
    {
     "name": "stdout",
     "output_type": "stream",
     "text": [
      "[4, 5, 6, 7]\n"
     ]
    }
   ],
   "source": [
    "print(lista_nr[3:7])"
   ]
  },
  {
   "cell_type": "code",
   "execution_count": 9,
   "id": "ec7dee9d",
   "metadata": {},
   "outputs": [],
   "source": [
    "# lista_nr[k:m], afiseaza elementele cu indicii k -> m"
   ]
  },
  {
   "cell_type": "code",
   "execution_count": 10,
   "id": "66db99f0",
   "metadata": {},
   "outputs": [
    {
     "name": "stdout",
     "output_type": "stream",
     "text": [
      "5\n"
     ]
    }
   ],
   "source": [
    "print(lista_nr[4])"
   ]
  },
  {
   "cell_type": "code",
   "execution_count": 11,
   "id": "b01007b2",
   "metadata": {},
   "outputs": [
    {
     "name": "stdout",
     "output_type": "stream",
     "text": [
      "[1, 2, 3, 4]\n"
     ]
    }
   ],
   "source": [
    "print(lista_nr[:4])"
   ]
  },
  {
   "cell_type": "code",
   "execution_count": 12,
   "id": "339ecff9",
   "metadata": {},
   "outputs": [
    {
     "name": "stdout",
     "output_type": "stream",
     "text": [
      "[5, 6, 7, 8, 9, 10]\n"
     ]
    }
   ],
   "source": [
    "print(lista_nr[4:])"
   ]
  },
  {
   "cell_type": "code",
   "execution_count": 13,
   "id": "2eea8711",
   "metadata": {},
   "outputs": [
    {
     "name": "stdout",
     "output_type": "stream",
     "text": [
      "[1, 5, 9]\n"
     ]
    }
   ],
   "source": [
    "print(lista_nr[0::4])"
   ]
  },
  {
   "cell_type": "code",
   "execution_count": 14,
   "id": "4a02f103",
   "metadata": {},
   "outputs": [],
   "source": [
    "# print(lista_nr[0::k]), afiseaza elementele cu indicii\n",
    "# multiplu lui k"
   ]
  },
  {
   "cell_type": "code",
   "execution_count": 15,
   "id": "4ad68e1f",
   "metadata": {},
   "outputs": [],
   "source": [
    "true_copy = lista_nr[:]"
   ]
  },
  {
   "cell_type": "code",
   "execution_count": 16,
   "id": "674da6d5",
   "metadata": {},
   "outputs": [
    {
     "name": "stdout",
     "output_type": "stream",
     "text": [
      "[1, 2, 3, 4, 5, 6, 7, 8, 9, 10]\n"
     ]
    }
   ],
   "source": [
    "print(true_copy)"
   ]
  },
  {
   "cell_type": "code",
   "execution_count": 17,
   "id": "39291545",
   "metadata": {},
   "outputs": [],
   "source": [
    "false_copy = lista_nr"
   ]
  },
  {
   "cell_type": "code",
   "execution_count": 18,
   "id": "732d8453",
   "metadata": {},
   "outputs": [
    {
     "name": "stdout",
     "output_type": "stream",
     "text": [
      "[1, 2, 3, 4, 5, 6, 7, 8, 9, 10]\n"
     ]
    }
   ],
   "source": [
    "print(false_copy)"
   ]
  },
  {
   "cell_type": "code",
   "execution_count": 19,
   "id": "dee3b670",
   "metadata": {},
   "outputs": [],
   "source": [
    "lista_nr[4] = 0"
   ]
  },
  {
   "cell_type": "code",
   "execution_count": 20,
   "id": "daafde6e",
   "metadata": {},
   "outputs": [
    {
     "name": "stdout",
     "output_type": "stream",
     "text": [
      "[1, 2, 3, 4, 0, 6, 7, 8, 9, 10]\n"
     ]
    }
   ],
   "source": [
    "print(lista_nr)"
   ]
  },
  {
   "cell_type": "code",
   "execution_count": 21,
   "id": "32abf8e1",
   "metadata": {},
   "outputs": [
    {
     "name": "stdout",
     "output_type": "stream",
     "text": [
      "10\n"
     ]
    }
   ],
   "source": [
    "print(len(lista_nr))"
   ]
  },
  {
   "cell_type": "code",
   "execution_count": 23,
   "id": "1cad8886",
   "metadata": {},
   "outputs": [
    {
     "name": "stdout",
     "output_type": "stream",
     "text": [
      "10\n",
      "9\n",
      "8\n",
      "7\n",
      "6\n",
      "0\n",
      "4\n",
      "3\n",
      "2\n",
      "1\n"
     ]
    }
   ],
   "source": [
    "for i in reversed(lista_nr):\n",
    "    print(i)"
   ]
  },
  {
   "cell_type": "code",
   "execution_count": 24,
   "id": "f0038d43",
   "metadata": {},
   "outputs": [
    {
     "name": "stdout",
     "output_type": "stream",
     "text": [
      "[10, 9, 8, 7, 6, 0, 4, 3, 2, 1]\n"
     ]
    }
   ],
   "source": [
    "lista_inversata = list(reversed(lista_nr))\n",
    "print(lista_inversata)"
   ]
  },
  {
   "cell_type": "code",
   "execution_count": 27,
   "id": "75f9f348",
   "metadata": {},
   "outputs": [],
   "source": [
    "expr_cuvinte = \"Micola se gindeste\".split()"
   ]
  },
  {
   "cell_type": "code",
   "execution_count": 29,
   "id": "b0d54912",
   "metadata": {},
   "outputs": [
    {
     "name": "stdout",
     "output_type": "stream",
     "text": [
      "['Micola', 'se', 'gindeste']\n"
     ]
    }
   ],
   "source": [
    "print(expr_cuvinte)"
   ]
  },
  {
   "cell_type": "code",
   "execution_count": 30,
   "id": "32182953",
   "metadata": {},
   "outputs": [],
   "source": [
    "str_list = list(\"Micola incepe sa inteleaga\")"
   ]
  },
  {
   "cell_type": "code",
   "execution_count": 31,
   "id": "ce366c96",
   "metadata": {},
   "outputs": [
    {
     "name": "stdout",
     "output_type": "stream",
     "text": [
      "['M', 'i', 'c', 'o', 'l', 'a', ' ', 'i', 'n', 'c', 'e', 'p', 'e', ' ', 's', 'a', ' ', 'i', 'n', 't', 'e', 'l', 'e', 'a', 'g', 'a']\n"
     ]
    }
   ],
   "source": [
    "print(str_list)"
   ]
  },
  {
   "cell_type": "code",
   "execution_count": 32,
   "id": "e68918c1",
   "metadata": {},
   "outputs": [
    {
     "ename": "AttributeError",
     "evalue": "'list' object has no attribute 'split'",
     "output_type": "error",
     "traceback": [
      "\u001b[1;31m---------------------------------------------------------------------------\u001b[0m",
      "\u001b[1;31mAttributeError\u001b[0m                            Traceback (most recent call last)",
      "\u001b[1;32m<ipython-input-32-86163d211bee>\u001b[0m in \u001b[0;36m<module>\u001b[1;34m\u001b[0m\n\u001b[1;32m----> 1\u001b[1;33m \u001b[0mgind\u001b[0m \u001b[1;33m=\u001b[0m \u001b[0mstr_list\u001b[0m\u001b[1;33m.\u001b[0m\u001b[0msplit\u001b[0m\u001b[1;33m(\u001b[0m\u001b[1;34m'-'\u001b[0m\u001b[1;33m)\u001b[0m\u001b[1;33m\u001b[0m\u001b[1;33m\u001b[0m\u001b[0m\n\u001b[0m\u001b[0;32m      2\u001b[0m \u001b[0mprint\u001b[0m\u001b[1;33m(\u001b[0m\u001b[0mgind\u001b[0m\u001b[1;33m)\u001b[0m\u001b[1;33m\u001b[0m\u001b[1;33m\u001b[0m\u001b[0m\n",
      "\u001b[1;31mAttributeError\u001b[0m: 'list' object has no attribute 'split'"
     ]
    }
   ],
   "source": [
    "gind = str_list.split('-')\n",
    "print(gind)"
   ]
  },
  {
   "cell_type": "code",
   "execution_count": 33,
   "id": "39e37a57",
   "metadata": {},
   "outputs": [],
   "source": [
    "gind_2 = \"Micola nu intelege\".split('-')"
   ]
  },
  {
   "cell_type": "code",
   "execution_count": 35,
   "id": "03bb2021",
   "metadata": {},
   "outputs": [
    {
     "name": "stdout",
     "output_type": "stream",
     "text": [
      "['Micola nu intelege']\n"
     ]
    }
   ],
   "source": [
    "print(gind_2)"
   ]
  },
  {
   "cell_type": "code",
   "execution_count": 36,
   "id": "3e6f829c",
   "metadata": {},
   "outputs": [],
   "source": [
    "gind_3 = \"Micola incepe sa - inteleaga putin\".split('-')"
   ]
  },
  {
   "cell_type": "code",
   "execution_count": 37,
   "id": "3ebf5b45",
   "metadata": {},
   "outputs": [
    {
     "name": "stdout",
     "output_type": "stream",
     "text": [
      "['Micola incepe sa ', ' inteleaga putin']\n"
     ]
    }
   ],
   "source": [
    "print(gind_3)"
   ]
  },
  {
   "cell_type": "code",
   "execution_count": 38,
   "id": "43a30e62",
   "metadata": {},
   "outputs": [
    {
     "name": "stdout",
     "output_type": "stream",
     "text": [
      "['Simbolul dat -> ', ' se omite']\n"
     ]
    }
   ],
   "source": [
    "gind_4 = \"Simbolul dat -> : se omite\".split(':')\n",
    "print(gind_4)"
   ]
  },
  {
   "cell_type": "code",
   "execution_count": 39,
   "id": "baac036e",
   "metadata": {},
   "outputs": [],
   "source": [
    "gind_5 = \"Micola a inteles cate ceva\""
   ]
  },
  {
   "cell_type": "code",
   "execution_count": 41,
   "id": "cda14352",
   "metadata": {},
   "outputs": [],
   "source": [
    "lista_nr.append(11)"
   ]
  },
  {
   "cell_type": "code",
   "execution_count": 42,
   "id": "969d33f2",
   "metadata": {},
   "outputs": [
    {
     "name": "stdout",
     "output_type": "stream",
     "text": [
      "[1, 2, 3, 4, 0, 6, 7, 8, 9, 10, 11]\n"
     ]
    }
   ],
   "source": [
    "print(lista_nr)"
   ]
  },
  {
   "cell_type": "code",
   "execution_count": 43,
   "id": "71e885b0",
   "metadata": {},
   "outputs": [],
   "source": [
    "lista_nr.append(15)"
   ]
  },
  {
   "cell_type": "code",
   "execution_count": 44,
   "id": "d5798ef6",
   "metadata": {},
   "outputs": [
    {
     "name": "stdout",
     "output_type": "stream",
     "text": [
      "[1, 2, 3, 4, 0, 6, 7, 8, 9, 10, 11, 15]\n"
     ]
    }
   ],
   "source": [
    "print(lista_nr)"
   ]
  },
  {
   "cell_type": "code",
   "execution_count": 45,
   "id": "7de80b2e",
   "metadata": {},
   "outputs": [
    {
     "name": "stdout",
     "output_type": "stream",
     "text": [
      "[1, 2, 3, 4, 6, 7, 8, 9, 10, 11, 15]\n"
     ]
    }
   ],
   "source": [
    "lista_nr.pop(4)\n",
    "print(lista_nr)"
   ]
  },
  {
   "cell_type": "code",
   "execution_count": 46,
   "id": "0e06c627",
   "metadata": {},
   "outputs": [
    {
     "data": {
      "text/plain": [
       "6"
      ]
     },
     "execution_count": 46,
     "metadata": {},
     "output_type": "execute_result"
    }
   ],
   "source": [
    "lista_nr[4]"
   ]
  },
  {
   "cell_type": "code",
   "execution_count": 47,
   "id": "dbc7fdb3",
   "metadata": {},
   "outputs": [
    {
     "name": "stdout",
     "output_type": "stream",
     "text": [
      "[1, 2, 3, 4, 6, 7, 8, 9, 10, 15]\n"
     ]
    }
   ],
   "source": [
    "lista_nr.remove(11)\n",
    "print(lista_nr)"
   ]
  },
  {
   "cell_type": "code",
   "execution_count": 49,
   "id": "dee663e7",
   "metadata": {},
   "outputs": [
    {
     "name": "stdout",
     "output_type": "stream",
     "text": [
      "[1, 2, 3, 5, 5, 4, 6, 7, 8, 9, 10, 15]\n"
     ]
    }
   ],
   "source": [
    "lista_nr.insert(4, 5)\n",
    "print(lista_nr)"
   ]
  },
  {
   "cell_type": "code",
   "execution_count": 50,
   "id": "ea0ec135",
   "metadata": {},
   "outputs": [
    {
     "name": "stdout",
     "output_type": "stream",
     "text": [
      "[1, 2, 3, 5, 4, 6, 7, 8, 9, 10, 15]\n"
     ]
    }
   ],
   "source": [
    "lista_nr.remove(5)\n",
    "print(lista_nr)"
   ]
  },
  {
   "cell_type": "code",
   "execution_count": 51,
   "id": "44ca0e95",
   "metadata": {},
   "outputs": [
    {
     "name": "stdout",
     "output_type": "stream",
     "text": [
      "[1, 2, 3, 5, 6, 7, 8, 9, 10, 15]\n"
     ]
    }
   ],
   "source": [
    "lista_nr.remove(4)\n",
    "print(lista_nr)"
   ]
  },
  {
   "cell_type": "code",
   "execution_count": 52,
   "id": "648b2b0b",
   "metadata": {},
   "outputs": [
    {
     "name": "stdout",
     "output_type": "stream",
     "text": [
      "[1, 2, 3, 5, 4, 6, 7, 8, 9, 10, 15]\n"
     ]
    }
   ],
   "source": [
    "lista_nr.insert(4,4)\n",
    "print(lista_nr)"
   ]
  },
  {
   "cell_type": "code",
   "execution_count": 53,
   "id": "8cfa5254",
   "metadata": {},
   "outputs": [
    {
     "name": "stdout",
     "output_type": "stream",
     "text": [
      "[1, 2, 3, 4, 6, 7, 8, 9, 10, 15]\n"
     ]
    }
   ],
   "source": [
    "lista_nr.remove(5)\n",
    "print(lista_nr)"
   ]
  },
  {
   "cell_type": "code",
   "execution_count": 54,
   "id": "c66f3908",
   "metadata": {},
   "outputs": [
    {
     "name": "stdout",
     "output_type": "stream",
     "text": [
      "[1, 2, 3, 5, 4, 6, 7, 8, 9, 10, 15]\n"
     ]
    }
   ],
   "source": [
    "lista_nr.insert(3,5)\n",
    "print(lista_nr)"
   ]
  },
  {
   "cell_type": "code",
   "execution_count": 55,
   "id": "1f6e8e3e",
   "metadata": {},
   "outputs": [],
   "source": [
    "gind_6 = \"Micola tugodum\""
   ]
  },
  {
   "cell_type": "code",
   "execution_count": 56,
   "id": "43e7ed76",
   "metadata": {},
   "outputs": [
    {
     "name": "stdout",
     "output_type": "stream",
     "text": [
      "[1, 2, 3, 4, 6, 7, 8, 9, 10, 15]\n"
     ]
    }
   ],
   "source": [
    "lista_nr.remove(5)\n",
    "print(lista_nr)"
   ]
  },
  {
   "cell_type": "code",
   "execution_count": 57,
   "id": "95980f89",
   "metadata": {},
   "outputs": [
    {
     "name": "stdout",
     "output_type": "stream",
     "text": [
      "[1, 2, 3, 4, 5, 6, 7, 8, 9, 10, 15]\n"
     ]
    }
   ],
   "source": [
    "lista_nr.insert(4,5)\n",
    "print(lista_nr)"
   ]
  },
  {
   "cell_type": "code",
   "execution_count": 58,
   "id": "854693ad",
   "metadata": {},
   "outputs": [],
   "source": [
    "# fine"
   ]
  },
  {
   "cell_type": "code",
   "execution_count": 59,
   "id": "347e5ba2",
   "metadata": {},
   "outputs": [
    {
     "name": "stdout",
     "output_type": "stream",
     "text": [
      "[1, 2, 3, 4, 5, 6, 7, 8, 9, 10, 10, 15]\n"
     ]
    }
   ],
   "source": [
    "lista_nr.insert(10,10)\n",
    "print(lista_nr)"
   ]
  },
  {
   "cell_type": "code",
   "execution_count": 60,
   "id": "d83ce343",
   "metadata": {},
   "outputs": [
    {
     "name": "stdout",
     "output_type": "stream",
     "text": [
      "2\n"
     ]
    }
   ],
   "source": [
    "print(lista_nr.count(10))"
   ]
  },
  {
   "cell_type": "code",
   "execution_count": 61,
   "id": "50cd5ca5",
   "metadata": {},
   "outputs": [
    {
     "name": "stdout",
     "output_type": "stream",
     "text": [
      "[1, 2, 3, 4, 5, 6, 7, 8, 9, 10, 10, 15]\n"
     ]
    }
   ],
   "source": [
    "copy_list = lista_nr.copy()\n",
    "print(copy_list)"
   ]
  },
  {
   "cell_type": "code",
   "execution_count": 62,
   "id": "a433df0c",
   "metadata": {},
   "outputs": [],
   "source": [
    "from copy import deepcopy"
   ]
  },
  {
   "cell_type": "code",
   "execution_count": 64,
   "id": "a27b4093",
   "metadata": {},
   "outputs": [
    {
     "data": {
      "text/plain": [
       "<function copy.deepcopy(x, memo=None, _nil=[])>"
      ]
     },
     "execution_count": 64,
     "metadata": {},
     "output_type": "execute_result"
    }
   ],
   "source": [
    "deepcopy"
   ]
  },
  {
   "cell_type": "code",
   "execution_count": 65,
   "id": "a05c09ed",
   "metadata": {},
   "outputs": [
    {
     "ename": "NameError",
     "evalue": "name 'matrix' is not defined",
     "output_type": "error",
     "traceback": [
      "\u001b[1;31m---------------------------------------------------------------------------\u001b[0m",
      "\u001b[1;31mNameError\u001b[0m                                 Traceback (most recent call last)",
      "\u001b[1;32m<ipython-input-65-552f919253ed>\u001b[0m in \u001b[0;36m<module>\u001b[1;34m\u001b[0m\n\u001b[1;32m----> 1\u001b[1;33m \u001b[0mmatrix\u001b[0m\u001b[1;33m[\u001b[0m\u001b[1;33m[\u001b[0m\u001b[1;36m1\u001b[0m\u001b[1;33m,\u001b[0m \u001b[1;36m2\u001b[0m\u001b[1;33m,\u001b[0m \u001b[1;36m3\u001b[0m\u001b[1;33m]\u001b[0m\u001b[1;33m,\u001b[0m \u001b[1;33m[\u001b[0m\u001b[1;36m4\u001b[0m\u001b[1;33m,\u001b[0m \u001b[1;36m5\u001b[0m\u001b[1;33m,\u001b[0m \u001b[1;36m6\u001b[0m\u001b[1;33m]\u001b[0m\u001b[1;33m,\u001b[0m \u001b[1;33m[\u001b[0m\u001b[1;36m7\u001b[0m\u001b[1;33m,\u001b[0m \u001b[1;36m8\u001b[0m\u001b[1;33m,\u001b[0m \u001b[1;36m9\u001b[0m\u001b[1;33m]\u001b[0m\u001b[1;33m,\u001b[0m \u001b[1;33m[\u001b[0m\u001b[1;36m10\u001b[0m\u001b[1;33m,\u001b[0m \u001b[1;36m10\u001b[0m\u001b[1;33m,\u001b[0m \u001b[1;36m15\u001b[0m\u001b[1;33m]\u001b[0m\u001b[1;33m]\u001b[0m\u001b[1;33m\u001b[0m\u001b[1;33m\u001b[0m\u001b[0m\n\u001b[0m",
      "\u001b[1;31mNameError\u001b[0m: name 'matrix' is not defined"
     ]
    }
   ],
   "source": [
    "matrix[[1, 2, 3], [4, 5, 6], [7, 8, 9], [10, 10, 15]]"
   ]
  },
  {
   "cell_type": "code",
   "execution_count": 66,
   "id": "e6a09928",
   "metadata": {},
   "outputs": [
    {
     "ename": "NameError",
     "evalue": "name 'matrix' is not defined",
     "output_type": "error",
     "traceback": [
      "\u001b[1;31m---------------------------------------------------------------------------\u001b[0m",
      "\u001b[1;31mNameError\u001b[0m                                 Traceback (most recent call last)",
      "\u001b[1;32m<ipython-input-66-66a2ad073de2>\u001b[0m in \u001b[0;36m<module>\u001b[1;34m\u001b[0m\n\u001b[1;32m----> 1\u001b[1;33m \u001b[0mmatrix_copy\u001b[0m \u001b[1;33m=\u001b[0m \u001b[0mdeepcopy\u001b[0m\u001b[1;33m(\u001b[0m\u001b[0mmatrix\u001b[0m\u001b[1;33m)\u001b[0m\u001b[1;33m\u001b[0m\u001b[1;33m\u001b[0m\u001b[0m\n\u001b[0m",
      "\u001b[1;31mNameError\u001b[0m: name 'matrix' is not defined"
     ]
    }
   ],
   "source": [
    "matrix_copy = deepcopy(matrix)"
   ]
  },
  {
   "cell_type": "code",
   "execution_count": 67,
   "id": "a13fd74f",
   "metadata": {},
   "outputs": [
    {
     "name": "stdout",
     "output_type": "stream",
     "text": [
      "[1, 2, 3, 4, 5, 6, 7, 8, 9, 10, 10, 15]\n"
     ]
    }
   ],
   "source": [
    "print(copy_list)"
   ]
  },
  {
   "cell_type": "code",
   "execution_count": 68,
   "id": "b59901cf",
   "metadata": {},
   "outputs": [
    {
     "name": "stdout",
     "output_type": "stream",
     "text": [
      "8\n"
     ]
    }
   ],
   "source": [
    "print(copy_list.index(9))"
   ]
  },
  {
   "cell_type": "code",
   "execution_count": 69,
   "id": "d3c65a11",
   "metadata": {},
   "outputs": [
    {
     "name": "stdout",
     "output_type": "stream",
     "text": [
      "9\n"
     ]
    }
   ],
   "source": [
    "print(copy_list.index(10))"
   ]
  },
  {
   "cell_type": "code",
   "execution_count": 71,
   "id": "52e64fd1",
   "metadata": {},
   "outputs": [
    {
     "name": "stdout",
     "output_type": "stream",
     "text": [
      "11\n"
     ]
    }
   ],
   "source": [
    "print(copy_list.index(15))"
   ]
  },
  {
   "cell_type": "code",
   "execution_count": 72,
   "id": "23ecbc06",
   "metadata": {},
   "outputs": [],
   "source": [
    "# .index(k) preia indicele primului nr = k din lista"
   ]
  },
  {
   "cell_type": "code",
   "execution_count": 75,
   "id": "aae2ea94",
   "metadata": {},
   "outputs": [
    {
     "ename": "ValueError",
     "evalue": "list.remove(x): x not in list",
     "output_type": "error",
     "traceback": [
      "\u001b[1;31m---------------------------------------------------------------------------\u001b[0m",
      "\u001b[1;31mValueError\u001b[0m                                Traceback (most recent call last)",
      "\u001b[1;32m<ipython-input-75-5dd37e919fd4>\u001b[0m in \u001b[0;36m<module>\u001b[1;34m\u001b[0m\n\u001b[1;32m----> 1\u001b[1;33m \u001b[0mcopy_list\u001b[0m\u001b[1;33m.\u001b[0m\u001b[0mremove\u001b[0m\u001b[1;33m(\u001b[0m\u001b[1;36m9\u001b[0m\u001b[1;33m)\u001b[0m\u001b[1;33m\u001b[0m\u001b[1;33m\u001b[0m\u001b[0m\n\u001b[0m\u001b[0;32m      2\u001b[0m \u001b[0mprint\u001b[0m\u001b[1;33m(\u001b[0m\u001b[0mcopy_list\u001b[0m\u001b[1;33m)\u001b[0m\u001b[1;33m\u001b[0m\u001b[1;33m\u001b[0m\u001b[0m\n",
      "\u001b[1;31mValueError\u001b[0m: list.remove(x): x not in list"
     ]
    }
   ],
   "source": [
    "copy_list.remove(9)\n",
    "print(copy_list)"
   ]
  },
  {
   "cell_type": "code",
   "execution_count": 76,
   "id": "3ebaa2de",
   "metadata": {},
   "outputs": [
    {
     "data": {
      "text/plain": [
       "[1, 2, 3, 4, 5, 6, 7, 8, 10, 15]"
      ]
     },
     "execution_count": 76,
     "metadata": {},
     "output_type": "execute_result"
    }
   ],
   "source": [
    "copy_list"
   ]
  },
  {
   "cell_type": "code",
   "execution_count": 77,
   "id": "9eb09be6",
   "metadata": {},
   "outputs": [
    {
     "name": "stdout",
     "output_type": "stream",
     "text": [
      "[1, 2, 3, 4, 5, 6, 7, 8, 15]\n"
     ]
    }
   ],
   "source": [
    "copy_list.remove(10)\n",
    "print(copy_list)"
   ]
  },
  {
   "cell_type": "code",
   "execution_count": 79,
   "id": "4e6a16a2",
   "metadata": {},
   "outputs": [
    {
     "name": "stdout",
     "output_type": "stream",
     "text": [
      "[1, 2, 3, 4, 5, 6, 7, 15]\n"
     ]
    }
   ],
   "source": [
    "copy_list.remove(8)\n",
    "print(copy_list)"
   ]
  },
  {
   "cell_type": "code",
   "execution_count": 80,
   "id": "d7007bf6",
   "metadata": {},
   "outputs": [
    {
     "name": "stdout",
     "output_type": "stream",
     "text": [
      "[1, 2, 3, 4, 5, 6, 7]\n"
     ]
    }
   ],
   "source": [
    "copy_list.remove(15)\n",
    "print(copy_list)"
   ]
  },
  {
   "cell_type": "code",
   "execution_count": 84,
   "id": "d9d1dec2",
   "metadata": {},
   "outputs": [
    {
     "name": "stdout",
     "output_type": "stream",
     "text": [
      "[1, 2, 3, 4, 5, 6, 7, 8, 9, 10, 11, 12, 13, 14, 15]\n"
     ]
    }
   ],
   "source": [
    "lista_2 = [8, 9, 10, 11, 12, 13, 14, 15]\n",
    "copy_list.extend(lista_2)\n",
    "print(copy_list)"
   ]
  },
  {
   "cell_type": "code",
   "execution_count": 85,
   "id": "5f6e503c",
   "metadata": {},
   "outputs": [
    {
     "name": "stdout",
     "output_type": "stream",
     "text": [
      "1\n",
      "2\n",
      "3\n",
      "4\n",
      "5\n",
      "6\n",
      "7\n",
      "8\n",
      "9\n",
      "10\n",
      "11\n",
      "12\n",
      "13\n",
      "14\n",
      "15\n"
     ]
    }
   ],
   "source": [
    "for element in copy_list:\n",
    "    print(element)"
   ]
  },
  {
   "cell_type": "code",
   "execution_count": 86,
   "id": "f0097032",
   "metadata": {},
   "outputs": [
    {
     "name": "stdout",
     "output_type": "stream",
     "text": [
      "1\n",
      "2\n",
      "3\n",
      "4\n",
      "5\n",
      "6\n",
      "7\n",
      "8\n",
      "9\n",
      "10\n",
      "11\n",
      "12\n",
      "13\n",
      "14\n",
      "15\n"
     ]
    }
   ],
   "source": [
    "for i in range(len(copy_list)):\n",
    "    print(copy_list[i])"
   ]
  },
  {
   "cell_type": "code",
   "execution_count": 87,
   "id": "9f3d73e6",
   "metadata": {},
   "outputs": [],
   "source": [
    "# acelasi rezultat, dar metode diferite"
   ]
  },
  {
   "cell_type": "code",
   "execution_count": 88,
   "id": "0423bf4b",
   "metadata": {},
   "outputs": [
    {
     "ename": "NameError",
     "evalue": "name 'matrix' is not defined",
     "output_type": "error",
     "traceback": [
      "\u001b[1;31m---------------------------------------------------------------------------\u001b[0m",
      "\u001b[1;31mNameError\u001b[0m                                 Traceback (most recent call last)",
      "\u001b[1;32m<ipython-input-88-508ca65e41f0>\u001b[0m in \u001b[0;36m<module>\u001b[1;34m\u001b[0m\n\u001b[1;32m----> 1\u001b[1;33m \u001b[1;32mfor\u001b[0m \u001b[0mi\u001b[0m \u001b[1;32min\u001b[0m \u001b[0mrange\u001b[0m\u001b[1;33m(\u001b[0m\u001b[0mlen\u001b[0m\u001b[1;33m(\u001b[0m\u001b[0mmatrix\u001b[0m\u001b[1;33m)\u001b[0m\u001b[1;33m)\u001b[0m\u001b[1;33m:\u001b[0m\u001b[1;33m\u001b[0m\u001b[1;33m\u001b[0m\u001b[0m\n\u001b[0m\u001b[0;32m      2\u001b[0m     \u001b[1;32mfor\u001b[0m \u001b[0mj\u001b[0m \u001b[1;32min\u001b[0m \u001b[0mrange\u001b[0m\u001b[1;33m(\u001b[0m\u001b[0mlen\u001b[0m\u001b[1;33m(\u001b[0m\u001b[0mmatrix\u001b[0m\u001b[1;33m[\u001b[0m\u001b[0mi\u001b[0m\u001b[1;33m]\u001b[0m\u001b[1;33m)\u001b[0m\u001b[1;33m)\u001b[0m\u001b[1;33m:\u001b[0m\u001b[1;33m\u001b[0m\u001b[1;33m\u001b[0m\u001b[0m\n\u001b[0;32m      3\u001b[0m         \u001b[0mprint\u001b[0m\u001b[1;33m(\u001b[0m\u001b[0mmatrix\u001b[0m\u001b[1;33m[\u001b[0m\u001b[0mi\u001b[0m\u001b[1;33m]\u001b[0m\u001b[1;33m[\u001b[0m\u001b[0mj\u001b[0m\u001b[1;33m]\u001b[0m\u001b[1;33m,\u001b[0m \u001b[0mend\u001b[0m\u001b[1;33m=\u001b[0m\u001b[1;34m''\u001b[0m\u001b[1;33m)\u001b[0m\u001b[1;33m\u001b[0m\u001b[1;33m\u001b[0m\u001b[0m\n\u001b[0;32m      4\u001b[0m     \u001b[0mprint\u001b[0m\u001b[1;33m(\u001b[0m\u001b[1;33m)\u001b[0m\u001b[1;33m\u001b[0m\u001b[1;33m\u001b[0m\u001b[0m\n",
      "\u001b[1;31mNameError\u001b[0m: name 'matrix' is not defined"
     ]
    }
   ],
   "source": [
    "for i in range(len(matrix)):\n",
    "    for j in range(len(matrix[i])):\n",
    "        print(matrix[i][j], end='')\n",
    "    print()"
   ]
  },
  {
   "cell_type": "code",
   "execution_count": null,
   "id": "ad4b0447",
   "metadata": {},
   "outputs": [],
   "source": []
  }
 ],
 "metadata": {
  "kernelspec": {
   "display_name": "Python 3",
   "language": "python",
   "name": "python3"
  },
  "language_info": {
   "codemirror_mode": {
    "name": "ipython",
    "version": 3
   },
   "file_extension": ".py",
   "mimetype": "text/x-python",
   "name": "python",
   "nbconvert_exporter": "python",
   "pygments_lexer": "ipython3",
   "version": "3.7.9"
  }
 },
 "nbformat": 4,
 "nbformat_minor": 5
}
